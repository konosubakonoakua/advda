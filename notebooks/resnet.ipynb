{
    "cells": [
        {
            "cell_type": "code",
            "execution_count": null,
            "source": [
                "import warnings\r\n",
                "warnings.filterwarnings(\"ignore\", category=DeprecationWarning)"
            ],
            "outputs": [],
            "metadata": {}
        },
        {
            "cell_type": "code",
            "execution_count": 20,
            "source": [
                "import torch\r\n",
                "from torch import nn\r\n",
                "import torchvision\r\n",
                "import torchvision.transforms as T\r\n",
                "from torchvision.models import ResNet, resnet18, resnet50\r\n",
                "from PIL import Image\r\n",
                "\r\n",
                "from art.attacks.evasion import FastGradientMethod\r\n",
                "from art.estimators.classification import PyTorchClassifier"
            ],
            "outputs": [
                {
                    "output_type": "stream",
                    "name": "stderr",
                    "text": [
                        "D:\\app\\Miniconda3\\envs\\adv\\lib\\site-packages\\ipykernel\\ipkernel.py:287: DeprecationWarning: `should_run_async` will not call `transform_cell` automatically in the future. Please pass the result to `transformed_cell` argument and any exception that happen during thetransform in `preprocessing_exc_tuple` in IPython 7.17 and above.\n",
                        "  and should_run_async(code)\n"
                    ]
                }
            ],
            "metadata": {}
        },
        {
            "cell_type": "code",
            "execution_count": 21,
            "source": [
                "img_preprocess = T.Compose([\r\n",
                "            # We use single int value inside a list due to torchscript type restrictions\r\n",
                "            T.Resize([256, ]),\r\n",
                "            T.CenterCrop(224),\r\n",
                "            T.ConvertImageDtype(torch.float),\r\n",
                "            T.Normalize([0.485, 0.456, 0.406], [0.229, 0.224, 0.225]),\r\n",
                "])\r\n",
                "class ResnetPredictor(nn.Module):\r\n",
                "\r\n",
                "    def __init__(self, model: ResNet):\r\n",
                "        super().__init__()\r\n",
                "        self.model = model\r\n",
                "        self.transforms = img_preprocess\r\n",
                "\r\n",
                "    def forward(self, x: torch.Tensor) -> torch.Tensor:\r\n",
                "        with torch.no_grad():\r\n",
                "            x = self.transforms(x)\r\n",
                "            _ = self.model(x)\r\n",
                "            y_pred: torch.Tensor = nn.Softmax(dim=1)(_).topk(5)\r\n",
                "            clazz = y_pred.values.clone().detach().cpu().tolist()\r\n",
                "            confs = y_pred.indices.clone().detach().cpu().tolist()\r\n",
                "            # topk = y_pred.topk(5)\r\n",
                "            return clazz, confs"
            ],
            "outputs": [
                {
                    "output_type": "stream",
                    "name": "stderr",
                    "text": [
                        "D:\\app\\Miniconda3\\envs\\adv\\lib\\site-packages\\ipykernel\\ipkernel.py:287: DeprecationWarning: `should_run_async` will not call `transform_cell` automatically in the future. Please pass the result to `transformed_cell` argument and any exception that happen during thetransform in `preprocessing_exc_tuple` in IPython 7.17 and above.\n",
                        "  and should_run_async(code)\n"
                    ]
                }
            ],
            "metadata": {}
        },
        {
            "cell_type": "code",
            "execution_count": 22,
            "source": [
                "r18 = resnet18(pretrained=True, progress=True).eval().cuda()\r\n",
                "r50 = resnet50(pretrained=True, progress=True).eval().cuda()\r\n",
                "model_version_mapping = {\r\n",
                "    50: r50,\r\n",
                "    18: r18\r\n",
                "}\r\n"
            ],
            "outputs": [
                {
                    "output_type": "stream",
                    "name": "stderr",
                    "text": [
                        "D:\\app\\Miniconda3\\envs\\adv\\lib\\site-packages\\ipykernel\\ipkernel.py:287: DeprecationWarning: `should_run_async` will not call `transform_cell` automatically in the future. Please pass the result to `transformed_cell` argument and any exception that happen during thetransform in `preprocessing_exc_tuple` in IPython 7.17 and above.\n",
                        "  and should_run_async(code)\n"
                    ]
                }
            ],
            "metadata": {}
        },
        {
            "cell_type": "code",
            "execution_count": 23,
            "source": [
                "pil_image = Image.open(\"./imgs/dogs.jpg\")\r\n",
                "if pil_image.mode == 'RGBA':\r\n",
                "    pil_image = pil_image.convert('RGB')\r\n",
                "img = img_preprocess(T.ToTensor()(pil_image)).cuda()\r\n",
                "img"
            ],
            "outputs": [
                {
                    "output_type": "stream",
                    "name": "stderr",
                    "text": [
                        "D:\\app\\Miniconda3\\envs\\adv\\lib\\site-packages\\ipykernel\\ipkernel.py:287: DeprecationWarning: `should_run_async` will not call `transform_cell` automatically in the future. Please pass the result to `transformed_cell` argument and any exception that happen during thetransform in `preprocessing_exc_tuple` in IPython 7.17 and above.\n",
                        "  and should_run_async(code)\n"
                    ]
                },
                {
                    "output_type": "execute_result",
                    "data": {
                        "text/plain": [
                            "tensor([[[-1.6311, -1.6510, -1.6329,  ..., -1.3003, -1.2754, -1.2826],\n",
                            "         [-1.5901, -1.6027, -1.5785,  ..., -1.2264, -1.2285, -1.2471],\n",
                            "         [-1.6012, -1.5916, -1.5694,  ..., -1.1251, -1.0994, -1.1400],\n",
                            "         ...,\n",
                            "         [-1.0306, -0.2032,  0.0293,  ..., -1.4527, -1.7057, -1.6515],\n",
                            "         [-0.9232, -0.2295, -0.0811,  ..., -1.4868, -1.5933, -1.6319],\n",
                            "         [-0.9191, -0.2305, -0.1058,  ..., -1.4383, -1.5840, -1.7882]],\n",
                            "\n",
                            "        [[-0.9253, -0.8873, -0.8409,  ..., -0.4265, -0.4309, -0.4383],\n",
                            "         [-0.8834, -0.8253, -0.7664,  ..., -0.3498, -0.3593, -0.3814],\n",
                            "         [-0.8514, -0.8117, -0.7747,  ..., -0.2505, -0.2242, -0.2657],\n",
                            "         ...,\n",
                            "         [-0.2841,  0.7239,  1.0147,  ..., -0.6250, -1.1354, -1.3591],\n",
                            "         [-0.1694,  0.7125,  0.9028,  ..., -0.7242, -1.1096, -1.3879],\n",
                            "         [-0.1547,  0.7215,  0.8792,  ..., -0.7285, -1.0549, -1.4414]],\n",
                            "\n",
                            "        [[-1.1173, -1.1438, -1.1284,  ..., -0.5601, -0.5473, -0.5546],\n",
                            "         [-1.0407, -1.0771, -1.0637,  ..., -0.4276, -0.4093, -0.4538],\n",
                            "         [-0.9883, -1.0216, -1.0196,  ..., -0.2927, -0.2624, -0.3037],\n",
                            "         ...,\n",
                            "         [-0.8764, -0.7612, -0.8050,  ..., -1.1115, -0.9140, -0.6549],\n",
                            "         [-0.8784, -0.8449, -0.9180,  ..., -1.0169, -0.8058, -0.6456],\n",
                            "         [-0.9770, -0.9030, -0.9207,  ..., -0.8548, -0.8251, -0.8769]]],\n",
                            "       device='cuda:0')"
                        ]
                    },
                    "metadata": {},
                    "execution_count": 23
                }
            ],
            "metadata": {}
        },
        {
            "cell_type": "code",
            "execution_count": 24,
            "source": [
                "predictor = ResnetPredictor(r50).to(0)\r\n",
                "res = predictor(img.unsqueeze_(0))"
            ],
            "outputs": [
                {
                    "output_type": "stream",
                    "name": "stderr",
                    "text": [
                        "D:\\app\\Miniconda3\\envs\\adv\\lib\\site-packages\\ipykernel\\ipkernel.py:287: DeprecationWarning: `should_run_async` will not call `transform_cell` automatically in the future. Please pass the result to `transformed_cell` argument and any exception that happen during thetransform in `preprocessing_exc_tuple` in IPython 7.17 and above.\n",
                        "  and should_run_async(code)\n"
                    ]
                }
            ],
            "metadata": {}
        },
        {
            "cell_type": "code",
            "execution_count": 47,
            "source": [
                "res"
            ],
            "outputs": [
                {
                    "output_type": "execute_result",
                    "data": {
                        "text/plain": [
                            "([[0.999515175819397,\n",
                            "   0.00024377662339247763,\n",
                            "   0.0001022979777189903,\n",
                            "   6.603808287763968e-05,\n",
                            "   2.5767878469196148e-05]],\n",
                            " [[818, 506, 971, 968, 421]])"
                        ]
                    },
                    "metadata": {},
                    "execution_count": 47
                }
            ],
            "metadata": {}
        },
        {
            "cell_type": "code",
            "execution_count": 46,
            "source": [
                "import torch.optim as optim\r\n",
                "\r\n",
                "def getClassifier(model):\r\n",
                "   criterion = nn.CrossEntropyLoss()\r\n",
                "   optimizer = optim.Adam(model.parameters(), lr=0.01)\r\n",
                "   classifier = PyTorchClassifier(\r\n",
                "        model=model,\r\n",
                "        clip_values=(0, 1),\r\n",
                "        loss=criterion,\r\n",
                "        optimizer=optimizer,\r\n",
                "        input_shape=(3, 224, 224),\r\n",
                "        nb_classes=1000,\r\n",
                "        )\r\n",
                "   return classifier"
            ],
            "outputs": [],
            "metadata": {}
        },
        {
            "cell_type": "code",
            "execution_count": 45,
            "source": [
                "classifier = getClassifier(r18)"
            ],
            "outputs": [],
            "metadata": {}
        },
        {
            "cell_type": "code",
            "execution_count": 44,
            "source": [
                "\r\n"
            ],
            "outputs": [],
            "metadata": {}
        },
        {
            "cell_type": "code",
            "execution_count": 43,
            "source": [
                "with warnings.catch_warnings():\r\n",
                "    warnings.simplefilter(\"ignore\")\r\n",
                "    attack = FastGradientMethod(estimator=classifier, eps=0.6)"
            ],
            "outputs": [],
            "metadata": {}
        },
        {
            "cell_type": "code",
            "execution_count": 42,
            "source": [
                "import numpy as np\r\n",
                "x:np.ndarray = img.clone().detach().cpu().numpy()"
            ],
            "outputs": [],
            "metadata": {}
        },
        {
            "cell_type": "code",
            "execution_count": 40,
            "source": [
                "adv = attack.generate(x)"
            ],
            "outputs": [],
            "metadata": {}
        },
        {
            "cell_type": "code",
            "execution_count": 41,
            "source": [
                "import kornia\r\n",
                "kornia_img = kornia.enhance.denormalize(torch.Tensor(adv), torch.Tensor([0.485, 0.456, 0.406]).unsqueeze_(0), torch.tensor([0.229, 0.224, 0.225]).unsqueeze_(0))\r\n"
            ],
            "outputs": [],
            "metadata": {}
        },
        {
            "cell_type": "code",
            "execution_count": 19,
            "source": [
                "# adv = adv[0]\r\n",
                "a = kornia_img.numpy()[0]\r\n",
                "# print(a)\r\n",
                "import matplotlib.pyplot as plt\r\n",
                "import numpy as np\r\n",
                "plt.figure()\r\n",
                "plt.axis(\"off\")\r\n",
                "plt.imshow(a.transpose(1,2,0))\r\n",
                "plt.show()"
            ],
            "outputs": [
                {
                    "output_type": "stream",
                    "name": "stderr",
                    "text": [
                        "D:\\app\\Miniconda3\\envs\\adv\\lib\\site-packages\\ipykernel\\ipkernel.py:287: DeprecationWarning: `should_run_async` will not call `transform_cell` automatically in the future. Please pass the result to `transformed_cell` argument and any exception that happen during thetransform in `preprocessing_exc_tuple` in IPython 7.17 and above.\n",
                        "  and should_run_async(code)\n"
                    ]
                },
                {
                    "output_type": "error",
                    "ename": "ImportError",
                    "evalue": "DLL load failed while importing ft2font: The specified module could not be found.",
                    "traceback": [
                        "\u001b[1;31m---------------------------------------------------------------------------\u001b[0m",
                        "\u001b[1;31mImportError\u001b[0m                               Traceback (most recent call last)",
                        "\u001b[1;32m<ipython-input-19-00ac59de32b2>\u001b[0m in \u001b[0;36m<module>\u001b[1;34m\u001b[0m\n\u001b[0;32m      2\u001b[0m \u001b[0ma\u001b[0m \u001b[1;33m=\u001b[0m \u001b[0mkornia_img\u001b[0m\u001b[1;33m.\u001b[0m\u001b[0mnumpy\u001b[0m\u001b[1;33m(\u001b[0m\u001b[1;33m)\u001b[0m\u001b[1;33m[\u001b[0m\u001b[1;36m0\u001b[0m\u001b[1;33m]\u001b[0m\u001b[1;33m\u001b[0m\u001b[1;33m\u001b[0m\u001b[0m\n\u001b[0;32m      3\u001b[0m \u001b[1;31m# print(a)\u001b[0m\u001b[1;33m\u001b[0m\u001b[1;33m\u001b[0m\u001b[1;33m\u001b[0m\u001b[0m\n\u001b[1;32m----> 4\u001b[1;33m \u001b[1;32mimport\u001b[0m \u001b[0mmatplotlib\u001b[0m\u001b[1;33m.\u001b[0m\u001b[0mpyplot\u001b[0m \u001b[1;32mas\u001b[0m \u001b[0mplt\u001b[0m\u001b[1;33m\u001b[0m\u001b[1;33m\u001b[0m\u001b[0m\n\u001b[0m\u001b[0;32m      5\u001b[0m \u001b[1;32mimport\u001b[0m \u001b[0mnumpy\u001b[0m \u001b[1;32mas\u001b[0m \u001b[0mnp\u001b[0m\u001b[1;33m\u001b[0m\u001b[1;33m\u001b[0m\u001b[0m\n\u001b[0;32m      6\u001b[0m \u001b[0mplt\u001b[0m\u001b[1;33m.\u001b[0m\u001b[0mfigure\u001b[0m\u001b[1;33m(\u001b[0m\u001b[1;33m)\u001b[0m\u001b[1;33m\u001b[0m\u001b[1;33m\u001b[0m\u001b[0m\n",
                        "\u001b[1;32mD:\\app\\Miniconda3\\envs\\adv\\lib\\site-packages\\matplotlib\\__init__.py\u001b[0m in \u001b[0;36m<module>\u001b[1;34m\u001b[0m\n\u001b[0;32m    155\u001b[0m \u001b[1;33m\u001b[0m\u001b[0m\n\u001b[0;32m    156\u001b[0m \u001b[1;33m\u001b[0m\u001b[0m\n\u001b[1;32m--> 157\u001b[1;33m \u001b[0m_check_versions\u001b[0m\u001b[1;33m(\u001b[0m\u001b[1;33m)\u001b[0m\u001b[1;33m\u001b[0m\u001b[1;33m\u001b[0m\u001b[0m\n\u001b[0m\u001b[0;32m    158\u001b[0m \u001b[1;33m\u001b[0m\u001b[0m\n\u001b[0;32m    159\u001b[0m \u001b[1;33m\u001b[0m\u001b[0m\n",
                        "\u001b[1;32mD:\\app\\Miniconda3\\envs\\adv\\lib\\site-packages\\matplotlib\\__init__.py\u001b[0m in \u001b[0;36m_check_versions\u001b[1;34m()\u001b[0m\n\u001b[0;32m    140\u001b[0m     \u001b[1;31m# Quickfix to ensure Microsoft Visual C++ redistributable\u001b[0m\u001b[1;33m\u001b[0m\u001b[1;33m\u001b[0m\u001b[1;33m\u001b[0m\u001b[0m\n\u001b[0;32m    141\u001b[0m     \u001b[1;31m# DLLs are loaded before importing kiwisolver\u001b[0m\u001b[1;33m\u001b[0m\u001b[1;33m\u001b[0m\u001b[1;33m\u001b[0m\u001b[0m\n\u001b[1;32m--> 142\u001b[1;33m     \u001b[1;32mfrom\u001b[0m \u001b[1;33m.\u001b[0m \u001b[1;32mimport\u001b[0m \u001b[0mft2font\u001b[0m\u001b[1;33m\u001b[0m\u001b[1;33m\u001b[0m\u001b[0m\n\u001b[0m\u001b[0;32m    143\u001b[0m \u001b[1;33m\u001b[0m\u001b[0m\n\u001b[0;32m    144\u001b[0m     for modname, minver in [\n",
                        "\u001b[1;31mImportError\u001b[0m: DLL load failed while importing ft2font: The specified module could not be found."
                    ]
                }
            ],
            "metadata": {}
        },
        {
            "cell_type": "code",
            "execution_count": 56,
            "source": [
                "predictor = ResnetPredictor(r50).to(0)\r\n",
                "res = predictor(kornia_img.cuda())"
            ],
            "outputs": [
                {
                    "output_type": "stream",
                    "name": "stderr",
                    "text": [
                        "D:\\app\\Miniconda3\\envs\\adv\\lib\\site-packages\\ipykernel\\ipkernel.py:287: DeprecationWarning: `should_run_async` will not call `transform_cell` automatically in the future. Please pass the result to `transformed_cell` argument and any exception that happen during thetransform in `preprocessing_exc_tuple` in IPython 7.17 and above.\n",
                        "  and should_run_async(code)\n"
                    ]
                }
            ],
            "metadata": {}
        },
        {
            "cell_type": "code",
            "execution_count": 57,
            "source": [
                "res"
            ],
            "outputs": [
                {
                    "output_type": "stream",
                    "name": "stderr",
                    "text": [
                        "D:\\app\\Miniconda3\\envs\\adv\\lib\\site-packages\\ipykernel\\ipkernel.py:287: DeprecationWarning: `should_run_async` will not call `transform_cell` automatically in the future. Please pass the result to `transformed_cell` argument and any exception that happen during thetransform in `preprocessing_exc_tuple` in IPython 7.17 and above.\n",
                        "  and should_run_async(code)\n"
                    ]
                },
                {
                    "output_type": "execute_result",
                    "data": {
                        "text/plain": [
                            "([[0.8273826837539673,\n",
                            "   0.040224142372608185,\n",
                            "   0.032656654715538025,\n",
                            "   0.02755838818848133,\n",
                            "   0.00962915737181902]],\n",
                            " [[257, 222, 229, 216, 208]])"
                        ]
                    },
                    "metadata": {},
                    "execution_count": 57
                }
            ],
            "metadata": {}
        },
        {
            "cell_type": "code",
            "execution_count": 33,
            "source": [
                "np.version.version"
            ],
            "outputs": [
                {
                    "output_type": "stream",
                    "name": "stderr",
                    "text": [
                        "D:\\app\\Miniconda3\\envs\\adv\\lib\\site-packages\\ipykernel\\ipkernel.py:287: DeprecationWarning: `should_run_async` will not call `transform_cell` automatically in the future. Please pass the result to `transformed_cell` argument and any exception that happen during thetransform in `preprocessing_exc_tuple` in IPython 7.17 and above.\n",
                        "  and should_run_async(code)\n"
                    ]
                },
                {
                    "output_type": "execute_result",
                    "data": {
                        "text/plain": [
                            "'1.20.2'"
                        ]
                    },
                    "metadata": {},
                    "execution_count": 33
                }
            ],
            "metadata": {}
        }
    ],
    "metadata": {
        "orig_nbformat": 4,
        "language_info": {
            "name": "python"
        }
    },
    "nbformat": 4,
    "nbformat_minor": 2
}