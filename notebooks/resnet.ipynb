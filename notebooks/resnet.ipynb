{
    "cells": [
        {
            "cell_type": "code",
            "execution_count": 2,
            "source": [
                "import torch\r\n",
                "from torch import nn\r\n",
                "import torchvision\r\n",
                "import torchvision.transforms as T\r\n",
                "from torchvision.models import ResNet, resnet18, resnet50\r\n",
                "from PIL import Image\r\n"
            ],
            "outputs": [],
            "metadata": {}
        },
        {
            "cell_type": "code",
            "execution_count": 70,
            "source": [
                "class ResnetPredictor(nn.Module):\r\n",
                "\r\n",
                "    def __init__(self, model: ResNet):\r\n",
                "        super().__init__()\r\n",
                "        self.model = model\r\n",
                "        self.transforms = nn.Sequential(\r\n",
                "            T.Resize([256, ]),  # We use single int value inside a list due to torchscript type restrictions\r\n",
                "            T.CenterCrop(224),\r\n",
                "            T.ConvertImageDtype(torch.float),\r\n",
                "            T.Normalize([0.485, 0.456, 0.406], [0.229, 0.224, 0.225]),\r\n",
                "        )\r\n",
                "\r\n",
                "    def forward(self, x: torch.Tensor) -> torch.Tensor:\r\n",
                "        with torch.no_grad():\r\n",
                "            x = self.transforms(x)\r\n",
                "            _ = self.model(x)\r\n",
                "            y_pred: torch.Tensor = nn.Softmax(dim=1)(_).topk(5)\r\n",
                "            clazz = y_pred.values.clone().detach().cpu().tolist()\r\n",
                "            confs = y_pred.indices.clone().detach().cpu().tolist()\r\n",
                "            # topk = y_pred.topk(5)\r\n",
                "            return clazz, confs"
            ],
            "outputs": [],
            "metadata": {}
        },
        {
            "cell_type": "code",
            "execution_count": 37,
            "source": [
                "r18 = resnet18(pretrained=True, progress=True).eval().cuda()\r\n",
                "r50 = resnet50(pretrained=True, progress=True).eval().cuda()\r\n",
                "model_version_mapping = {\r\n",
                "    50: r50,\r\n",
                "    18: r18\r\n",
                "}\r\n"
            ],
            "outputs": [],
            "metadata": {}
        },
        {
            "cell_type": "code",
            "execution_count": 34,
            "source": [
                "pil_image = Image.open(\"./imgs/dogs.jpg\")\r\n",
                "if pil_image.mode == 'RGBA':\r\n",
                "    pil_image = pil_image.convert('RGB')\r\n",
                "img = T.ToTensor()(pil_image).unsqueeze_(0).cuda()\r\n"
            ],
            "outputs": [],
            "metadata": {}
        },
        {
            "cell_type": "code",
            "execution_count": 71,
            "source": [
                "predictor = ResnetPredictor(r50).to(0)\r\n",
                "res = predictor(img)"
            ],
            "outputs": [],
            "metadata": {}
        },
        {
            "cell_type": "code",
            "execution_count": 72,
            "source": [
                "res"
            ],
            "outputs": [
                {
                    "output_type": "execute_result",
                    "data": {
                        "text/plain": [
                            "([[0.9793123006820679,\n",
                            "   0.013081071898341179,\n",
                            "   0.0036804289557039738,\n",
                            "   0.001444189460016787,\n",
                            "   0.0007551226881332695]],\n",
                            " [[208, 207, 852, 222, 162]])"
                        ]
                    },
                    "metadata": {},
                    "execution_count": 72
                }
            ],
            "metadata": {}
        },
        {
            "cell_type": "code",
            "execution_count": 76,
            "source": [
                "clazz_zh = [[c] for c in res[0][0]]\r\n",
                "clazz_zh"
            ],
            "outputs": [
                {
                    "output_type": "execute_result",
                    "data": {
                        "text/plain": [
                            "[[0.9793123006820679],\n",
                            " [0.013081071898341179],\n",
                            " [0.0036804289557039738],\n",
                            " [0.001444189460016787],\n",
                            " [0.0007551226881332695]]"
                        ]
                    },
                    "metadata": {},
                    "execution_count": 76
                }
            ],
            "metadata": {}
        }
    ],
    "metadata": {
        "orig_nbformat": 4,
        "language_info": {
            "name": "python"
        }
    },
    "nbformat": 4,
    "nbformat_minor": 2
}